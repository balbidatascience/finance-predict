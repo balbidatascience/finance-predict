{
 "cells": [
  {
   "cell_type": "markdown",
   "metadata": {},
   "source": [
    "## Série histórica IBOVESPA\n",
    "\n",
    "Análise preditiva da IBOVESPA\n",
    "\n",
    "**Datasets:** http://www.bmfbovespa.com.br/pt_br/servicos/market-data/historico/mercado-a-vista/series-historicas/\n",
    "\n",
    "**By:** Gabriel Machado Lopes Gonçalves (GMLG)"
   ]
  },
  {
   "cell_type": "code",
   "execution_count": null,
   "metadata": {
    "collapsed": true
   },
   "outputs": [],
   "source": [
    "# Packages\n",
    "from pyspark.sql.functions import substring\n",
    "from pyspark.sql import Row\n",
    "import pandas as pd"
   ]
  },
  {
   "cell_type": "code",
   "execution_count": null,
   "metadata": {},
   "outputs": [],
   "source": [
    "print(sc)"
   ]
  },
  {
   "cell_type": "code",
   "execution_count": null,
   "metadata": {},
   "outputs": [],
   "source": [
    "# read txt\n",
    "ibov_v1 = sc.textFile('datasets/COTAHIST_A2018.TXT')"
   ]
  },
  {
   "cell_type": "code",
   "execution_count": null,
   "metadata": {
    "collapsed": true
   },
   "outputs": [],
   "source": [
    "# Clean header line\n",
    "header = ibov_v1.first()\n",
    "ibov_v2 = ibov_v1.filter(lambda line: line != header)"
   ]
  },
  {
   "cell_type": "code",
   "execution_count": null,
   "metadata": {
    "collapsed": true
   },
   "outputs": [],
   "source": [
    "# Split lines\n",
    "ibov_v3 = ibov_v2.map(lambda x: x.split(\"\\t\"))"
   ]
  },
  {
   "cell_type": "code",
   "execution_count": null,
   "metadata": {
    "collapsed": true
   },
   "outputs": [],
   "source": [
    "# Convert to dataframe \n",
    "ibov_v4 = spark.createDataFrame(ibov_v3)"
   ]
  },
  {
   "cell_type": "code",
   "execution_count": null,
   "metadata": {},
   "outputs": [],
   "source": [
    "ibov_v5 = ibov_v4.select(substring(ibov_v4[0], 1, 2).alias('TIPREG'), \n",
    "                         substring(ibov_v4[0], 3, 8).alias('DT_PREGAO'), \n",
    "                         substring(ibov_v4[0], 11, 2).alias('CODBDI'), \n",
    "                         substring(ibov_v4[0], 13, 12).alias('CODNEG'), \n",
    "                         substring(ibov_v4[0], 25, 27).alias('TPMERC'), \n",
    "                         substring(ibov_v4[0], 28, 12).alias('NOMRES'), \n",
    "                         substring(ibov_v4[0], 40, 10).alias('ESPECI'), \n",
    "                         substring(ibov_v4[0], 53, 4).alias('MODREF'),\n",
    "                         substring(ibov_v4[0], 57, 13).alias('PREABE'), # Preco de abertura\n",
    "                         substring(ibov_v4[0], 70, 13).alias('PREMAX'), # Preco maximo\n",
    "                         substring(ibov_v4[0], 83, 13).alias('PREMIN'), \n",
    "                         substring(ibov_v4[0], 96, 13).alias('PREMED'),\n",
    "                         substring(ibov_v4[0], 109, 13).alias('PREULT'),\n",
    "                         substring(ibov_v4[0], 122, 13).alias('PREOFC'),\n",
    "                         substring(ibov_v4[0], 135, 13).alias('PREOFV'), \n",
    "                         substring(ibov_v4[0], 148, 5).alias('TOTNEG'), \n",
    "                         substring(ibov_v4[0], 153, 18).alias('QUATOT'), \n",
    "                         substring(ibov_v4[0], 135, 13).alias('PREOFV')) "
   ]
  },
  {
   "cell_type": "code",
   "execution_count": null,
   "metadata": {},
   "outputs": [],
   "source": [
    "# Show rows\n",
    "\n",
    "#for row in ibov_v5 : print(row)"
   ]
  },
  {
   "cell_type": "code",
   "execution_count": null,
   "metadata": {},
   "outputs": [],
   "source": [
    "# Schema\n",
    "ibov_v5.printSchema()"
   ]
  },
  {
   "cell_type": "code",
   "execution_count": null,
   "metadata": {},
   "outputs": [],
   "source": [
    "# Save temporary table\n",
    "ibov_v5.createOrReplaceTempView(\"ibov_tb\")"
   ]
  },
  {
   "cell_type": "code",
   "execution_count": null,
   "metadata": {},
   "outputs": [],
   "source": [
    "# Show table\n",
    "sqlCtx.sql(\"select * from ibov_tb limit 10\").show()"
   ]
  },
  {
   "cell_type": "code",
   "execution_count": null,
   "metadata": {
    "collapsed": true
   },
   "outputs": [],
   "source": []
  }
 ],
 "metadata": {
  "kernelspec": {
   "display_name": "Python 3",
   "language": "python",
   "name": "python3"
  },
  "language_info": {
   "codemirror_mode": {
    "name": "ipython",
    "version": 3
   },
   "file_extension": ".py",
   "mimetype": "text/x-python",
   "name": "python",
   "nbconvert_exporter": "python",
   "pygments_lexer": "ipython3",
   "version": "3.6.3"
  }
 },
 "nbformat": 4,
 "nbformat_minor": 2
}
