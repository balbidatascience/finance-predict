{
 "cells": [
  {
   "cell_type": "markdown",
   "metadata": {},
   "source": [
    "## Série histórica IBOVESPA\n",
    "\n",
    "Análise preditiva da IBOVESPA\n",
    "\n",
    "**Datasets:** http://www.bmfbovespa.com.br/pt_br/servicos/market-data/historico/mercado-a-vista/series-historicas/\n",
    "\n",
    "**By:** Gabriel Machado Lopes Gonçalves (GMLG)"
   ]
  },
  {
   "cell_type": "code",
   "execution_count": 1,
   "metadata": {
    "collapsed": true
   },
   "outputs": [],
   "source": [
    "# Packages\n",
    "from pyspark.sql.functions import substring\n",
    "from pyspark.sql import Row\n",
    "import pandas as pd"
   ]
  },
  {
   "cell_type": "code",
   "execution_count": 2,
   "metadata": {},
   "outputs": [
    {
     "name": "stdout",
     "output_type": "stream",
     "text": [
      "<SparkContext master=local[*] appName=PySparkShell>\n"
     ]
    }
   ],
   "source": [
    "print(sc)"
   ]
  },
  {
   "cell_type": "code",
   "execution_count": 3,
   "metadata": {
    "collapsed": true
   },
   "outputs": [],
   "source": [
    "# read txt\n",
    "ibov_v1 = sc.textFile('datasets/COTAHIST_A2018.TXT')"
   ]
  },
  {
   "cell_type": "code",
   "execution_count": 4,
   "metadata": {
    "collapsed": true
   },
   "outputs": [],
   "source": [
    "# Clean header line\n",
    "header = ibov_v1.first()\n",
    "ibov_v2 = ibov_v1.filter(lambda line: line != header)"
   ]
  },
  {
   "cell_type": "code",
   "execution_count": 5,
   "metadata": {
    "collapsed": true
   },
   "outputs": [],
   "source": [
    "# Split lines\n",
    "ibov_v3 = ibov_v2.map(lambda x: x.split(\"\\t\"))"
   ]
  },
  {
   "cell_type": "code",
   "execution_count": 6,
   "metadata": {
    "collapsed": true
   },
   "outputs": [],
   "source": [
    "# Convert to dataframe \n",
    "ibov_v4 = spark.createDataFrame(ibov_v3)"
   ]
  },
  {
   "cell_type": "code",
   "execution_count": 7,
   "metadata": {
    "collapsed": true
   },
   "outputs": [],
   "source": [
    "ibov_v5 = ibov_v4.select(substring(ibov_v4[0], 1, 2).alias('TIPREG'), \n",
    "                         substring(ibov_v4[0], 3, 8).alias('DT_PREGAO'), \n",
    "                         substring(ibov_v4[0], 11, 2).alias('CODBDI'), \n",
    "                         substring(ibov_v4[0], 13, 12).alias('CODNEG'), \n",
    "                         substring(ibov_v4[0], 25, 27).alias('TPMERC'), \n",
    "                         substring(ibov_v4[0], 28, 12).alias('NOMRES'), \n",
    "                         substring(ibov_v4[0], 40, 10).alias('ESPECI'), \n",
    "                         substring(ibov_v4[0], 53, 4).alias('MODREF'),\n",
    "                         substring(ibov_v4[0], 57, 13).alias('PREABE'), # Preco de abertura\n",
    "                         substring(ibov_v4[0], 70, 13).alias('PREMAX'), # Preco maximo\n",
    "                         substring(ibov_v4[0], 83, 13).alias('PREMIN'), \n",
    "                         substring(ibov_v4[0], 96, 13).alias('PREMED'),\n",
    "                         substring(ibov_v4[0], 109, 13).alias('PREULT'),\n",
    "                         substring(ibov_v4[0], 122, 13).alias('PREOFC'),\n",
    "                         substring(ibov_v4[0], 135, 13).alias('PREOFV'), \n",
    "                         substring(ibov_v4[0], 148, 5).alias('TOTNEG'), \n",
    "                         substring(ibov_v4[0], 153, 18).alias('QUATOT'), \n",
    "                         substring(ibov_v4[0], 135, 13).alias('PREOFV')) "
   ]
  },
  {
   "cell_type": "code",
   "execution_count": null,
   "metadata": {
    "collapsed": true
   },
   "outputs": [],
   "source": [
    "# Show rows\n",
    "\n",
    "#for row in ibov_v5 : print(row)"
   ]
  },
  {
   "cell_type": "code",
   "execution_count": 8,
   "metadata": {},
   "outputs": [
    {
     "name": "stdout",
     "output_type": "stream",
     "text": [
      "root\n",
      " |-- TIPREG: string (nullable = true)\n",
      " |-- DT_PREGAO: string (nullable = true)\n",
      " |-- CODBDI: string (nullable = true)\n",
      " |-- CODNEG: string (nullable = true)\n",
      " |-- TPMERC: string (nullable = true)\n",
      " |-- NOMRES: string (nullable = true)\n",
      " |-- ESPECI: string (nullable = true)\n",
      " |-- MODREF: string (nullable = true)\n",
      " |-- PREABE: string (nullable = true)\n",
      " |-- PREMAX: string (nullable = true)\n",
      " |-- PREMIN: string (nullable = true)\n",
      " |-- PREMED: string (nullable = true)\n",
      " |-- PREULT: string (nullable = true)\n",
      " |-- PREOFC: string (nullable = true)\n",
      " |-- PREOFV: string (nullable = true)\n",
      " |-- TOTNEG: string (nullable = true)\n",
      " |-- QUATOT: string (nullable = true)\n",
      " |-- PREOFV: string (nullable = true)\n",
      "\n"
     ]
    }
   ],
   "source": [
    "# Schema\n",
    "ibov_v5.printSchema()"
   ]
  },
  {
   "cell_type": "code",
   "execution_count": 9,
   "metadata": {
    "collapsed": true
   },
   "outputs": [],
   "source": [
    "# Save temporary table\n",
    "ibov_v5.createOrReplaceTempView(\"ibov_tb\")"
   ]
  },
  {
   "cell_type": "code",
   "execution_count": 13,
   "metadata": {},
   "outputs": [
    {
     "name": "stdout",
     "output_type": "stream",
     "text": [
      "+------+---------+------+------------+--------------------+------------+----------+------+-------------+-------------+-------------+-------------+-------------+-------------+-------------+------+------------------+-------------+\n",
      "|TIPREG|DT_PREGAO|CODBDI|      CODNEG|              TPMERC|      NOMRES|    ESPECI|MODREF|       PREABE|       PREMAX|       PREMIN|       PREMED|       PREULT|       PREOFC|       PREOFV|TOTNEG|            QUATOT|       PREOFV|\n",
      "+------+---------+------+------------+--------------------+------------+----------+------+-------------+-------------+-------------+-------------+-------------+-------------+-------------+------+------------------+-------------+\n",
      "|    01| 20180102|    02|AALR3       |010ALLIAR      ON...|ALLIAR      |ON      NM|  R$  |0000000001494|0000000001516|0000000001470|0000000001484|0000000001489|0000000001475|0000000001489| 00403|000000000000094500|0000000001489|\n",
      "|    01| 20180102|    96|AALR3F      |020ALLIAR      ON...|ALLIAR      |ON      NM|  R$  |0000000001479|0000000001493|0000000001479|0000000001486|0000000001480|0000000001473|0000000001516| 00007|000000000000000225|0000000001516|\n",
      "|    01| 20180102|    02|AAPL34      |010APPLE       DR...|APPLE       |DRN       |  R$  |0000000005681|0000000005681|0000000005630|0000000005638|0000000005630|0000000005500|0000000005630| 00004|000000000000000900|0000000005630|\n",
      "|    01| 20180102|    96|AAPL34F     |020APPLE       DR...|APPLE       |DRN       |  R$  |0000000005681|0000000006500|0000000005654|0000000005963|0000000005654|0000000005459|0000000006200| 00007|000000000000000061|0000000006200|\n",
      "|    01| 20180102|    10|ABCB2       |010ABC BRASIL  DI...|ABC BRASIL  |DIR PRE N2|  R$  |0000000000411|0000000000420|0000000000411|0000000000414|0000000000420|0000000000413|0000000000600| 00006|000000000000001200|0000000000600|\n",
      "|    01| 20180102|    96|ABCB2F      |020ABC BRASIL  DI...|ABC BRASIL  |DIR PRE N2|  R$  |0000000000401|0000000000420|0000000000401|0000000000412|0000000000420|0000000000408|0000000000420| 00014|000000000000000222|0000000000420|\n",
      "|    01| 20180102|    02|ABCB4       |010ABC BRASIL  PN...|ABC BRASIL  |PN  EJS N2|  R$  |0000000001683|0000000001685|0000000001656|0000000001665|0000000001658|0000000001657|0000000001660| 02024|000000000000326300|0000000001660|\n",
      "|    01| 20180102|    96|ABCB4F      |020ABC BRASIL  PN...|ABC BRASIL  |PN  EJS N2|  R$  |0000000001675|0000000001680|0000000001655|0000000001667|0000000001668|0000000001661|0000000001668| 00047|000000000000000940|0000000001668|\n",
      "|    01| 20180102|    12|ABCP11      |010FII ABC IMOBCI...|FII ABC IMOB|CI  ER    |  R$  |0000000001610|0000000001619|0000000001595|0000000001608|0000000001600|0000000001600|0000000001609| 00116|000000000000014513|0000000001609|\n",
      "|    01| 20180102|    02|ABEV3       |010AMBEV S/A   ON...|AMBEV S/A   |ON  EJ    |  R$  |0000000002133|0000000002175|0000000002117|0000000002160|0000000002169|0000000002169|0000000002170| 33607|000000000012717900|0000000002170|\n",
      "+------+---------+------+------------+--------------------+------------+----------+------+-------------+-------------+-------------+-------------+-------------+-------------+-------------+------+------------------+-------------+\n",
      "\n"
     ]
    }
   ],
   "source": [
    "# Show table\n",
    "sqlCtx.sql(\"select * from ibov_tb limit 10\").show()"
   ]
  },
  {
   "cell_type": "code",
   "execution_count": null,
   "metadata": {
    "collapsed": true
   },
   "outputs": [],
   "source": []
  }
 ],
 "metadata": {
  "kernelspec": {
   "display_name": "Python 3",
   "language": "python",
   "name": "python3"
  },
  "language_info": {
   "codemirror_mode": {
    "name": "ipython",
    "version": 3
   },
   "file_extension": ".py",
   "mimetype": "text/x-python",
   "name": "python",
   "nbconvert_exporter": "python",
   "pygments_lexer": "ipython3",
   "version": "3.6.3"
  }
 },
 "nbformat": 4,
 "nbformat_minor": 2
}
