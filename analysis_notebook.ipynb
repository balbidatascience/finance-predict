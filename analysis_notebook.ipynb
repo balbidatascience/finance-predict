{
 "cells": [
  {
   "cell_type": "markdown",
   "metadata": {},
   "source": [
    "## Série histórica IBOVESPA\n",
    "\n",
    "Análise preditiva da IBOVESPA\n",
    "\n",
    "**Datasets:** http://www.bmfbovespa.com.br/pt_br/servicos/market-data/historico/mercado-a-vista/series-historicas/\n",
    "\n",
    "**By:** Gabriel Machado Lopes Gonçalves (GMLG)"
   ]
  },
  {
   "cell_type": "code",
   "execution_count": 1,
   "metadata": {
    "collapsed": true
   },
   "outputs": [],
   "source": [
    "# Packages\n",
    "\n",
    "from pyspark.sql.functions import substring\n",
    "from pyspark.sql import Row\n",
    "import pandas as pd\n",
    "from datetime import datetime"
   ]
  },
  {
   "cell_type": "code",
   "execution_count": 2,
   "metadata": {},
   "outputs": [
    {
     "name": "stdout",
     "output_type": "stream",
     "text": [
      "<SparkContext master=local[*] appName=PySparkShell>\n"
     ]
    }
   ],
   "source": [
    "print(sc)"
   ]
  },
  {
   "cell_type": "code",
   "execution_count": 3,
   "metadata": {
    "collapsed": true
   },
   "outputs": [],
   "source": [
    "# read txt\n",
    "\n",
    "ibov_v1 = sc.textFile('datasets/COTAHIST_A2018.TXT')"
   ]
  },
  {
   "cell_type": "code",
   "execution_count": 4,
   "metadata": {
    "collapsed": true
   },
   "outputs": [],
   "source": [
    "# Clean header line\n",
    "\n",
    "header = ibov_v1.first()\n",
    "ibov_v2 = ibov_v1.filter(lambda line: line != header)"
   ]
  },
  {
   "cell_type": "code",
   "execution_count": 5,
   "metadata": {
    "collapsed": true
   },
   "outputs": [],
   "source": [
    "# Split lines\n",
    "\n",
    "ibov_v3 = ibov_v2.map(lambda x: x.split(\"\\t\"))"
   ]
  },
  {
   "cell_type": "code",
   "execution_count": 6,
   "metadata": {
    "collapsed": true
   },
   "outputs": [],
   "source": [
    "# Convert to dataframe \n",
    "\n",
    "ibov_v4 = spark.createDataFrame(ibov_v3)"
   ]
  },
  {
   "cell_type": "code",
   "execution_count": 7,
   "metadata": {
    "collapsed": true
   },
   "outputs": [],
   "source": [
    "ibov_v5 = ibov_v4.select(substring(ibov_v4[0], 1, 2).alias('TIPREG'), \n",
    "                         substring(ibov_v4[0], 3, 8).alias('DT_PREGAO'), \n",
    "                         substring(ibov_v4[0], 11, 2).alias('CODBDI'), \n",
    "                         substring(ibov_v4[0], 13, 12).alias('CODNEG'), \n",
    "                         substring(ibov_v4[0], 25, 27).alias('TPMERC'), \n",
    "                         substring(ibov_v4[0], 28, 12).alias('NOMRES'), \n",
    "                         substring(ibov_v4[0], 40, 10).alias('ESPECI'), \n",
    "                         substring(ibov_v4[0], 53, 4).alias('MODREF'),\n",
    "                         substring(ibov_v4[0], 57, 13).alias('PREABE'), # Preco de abertura\n",
    "                         substring(ibov_v4[0], 70, 13).alias('PREMAX'), # Preco maximo\n",
    "                         substring(ibov_v4[0], 83, 13).alias('PREMIN'), \n",
    "                         substring(ibov_v4[0], 96, 13).alias('PREMED'),\n",
    "                         substring(ibov_v4[0], 109, 13).alias('PREULT'),\n",
    "                         substring(ibov_v4[0], 122, 13).alias('PREOFC'),\n",
    "                         substring(ibov_v4[0], 135, 13).alias('PREOFV'), \n",
    "                         substring(ibov_v4[0], 148, 5).alias('TOTNEG'), \n",
    "                         substring(ibov_v4[0], 153, 18).alias('QUATOT'), \n",
    "                         substring(ibov_v4[0], 135, 13).alias('PREOFV')) "
   ]
  },
  {
   "cell_type": "code",
   "execution_count": null,
   "metadata": {
    "collapsed": true
   },
   "outputs": [],
   "source": [
    "# Show rows\n",
    "\n",
    "#for row in ibov_v5 : print(row)"
   ]
  },
  {
   "cell_type": "code",
   "execution_count": 8,
   "metadata": {},
   "outputs": [
    {
     "name": "stdout",
     "output_type": "stream",
     "text": [
      "root\n",
      " |-- TIPREG: string (nullable = true)\n",
      " |-- DT_PREGAO: string (nullable = true)\n",
      " |-- CODBDI: string (nullable = true)\n",
      " |-- CODNEG: string (nullable = true)\n",
      " |-- TPMERC: string (nullable = true)\n",
      " |-- NOMRES: string (nullable = true)\n",
      " |-- ESPECI: string (nullable = true)\n",
      " |-- MODREF: string (nullable = true)\n",
      " |-- PREABE: string (nullable = true)\n",
      " |-- PREMAX: string (nullable = true)\n",
      " |-- PREMIN: string (nullable = true)\n",
      " |-- PREMED: string (nullable = true)\n",
      " |-- PREULT: string (nullable = true)\n",
      " |-- PREOFC: string (nullable = true)\n",
      " |-- PREOFV: string (nullable = true)\n",
      " |-- TOTNEG: string (nullable = true)\n",
      " |-- QUATOT: string (nullable = true)\n",
      " |-- PREOFV: string (nullable = true)\n",
      "\n"
     ]
    }
   ],
   "source": [
    "# Schema\n",
    "\n",
    "ibov_v5.printSchema()"
   ]
  },
  {
   "cell_type": "code",
   "execution_count": null,
   "metadata": {
    "collapsed": true
   },
   "outputs": [],
   "source": [
    "# Save temporary table\n",
    "\n",
    "ibov_v5.createOrReplaceTempView(\"ibov_tb\")"
   ]
  },
  {
   "cell_type": "code",
   "execution_count": null,
   "metadata": {},
   "outputs": [],
   "source": [
    "# Show table\n",
    "\n",
    "sqlCtx.sql(\"select * from ibov_tb where  limit 10\").show()"
   ]
  },
  {
   "cell_type": "code",
   "execution_count": 144,
   "metadata": {},
   "outputs": [],
   "source": [
    "# Transformando em um dataframe do pandas\n",
    "\n",
    "dfIbov = ibov_v5.toPandas()\n",
    "dfPetr4 = dfIbov.copy()"
   ]
  },
  {
   "cell_type": "code",
   "execution_count": 145,
   "metadata": {},
   "outputs": [],
   "source": [
    "# Filtrando para analisar somente a ação PETR4\n",
    "\n",
    "dfPetr4 = dfPetr4[dfPetr4['CODNEG'].str.contains('PETR4') & dfPetr4['CODBDI'].str.contains('02')]"
   ]
  },
  {
   "cell_type": "code",
   "execution_count": 146,
   "metadata": {},
   "outputs": [],
   "source": [
    "# Transformando o tipo de dado das colunas\n",
    "\n",
    "dfPetr4['DT_PREGAO'] = pd.to_datetime(dfPetr4['DT_PREGAO'], format='%Y%m%d', errors='coerce')\n",
    "dfPetr4['PREABE'] = (dfPetr4['PREABE'].str.slice(0, -2) + '.' + dfPetr4['PREABE'].str.slice(11)).astype(float)\n",
    "dfPetr4['PREMAX'] = (dfPetr4['PREMAX'].str.slice(0, -2) + '.' + dfPetr4['PREMAX'].str.slice(11)).astype(float)\n",
    "dfPetr4['PREMIN'] = (dfPetr4['PREMIN'].str.slice(0, -2) + '.' + dfPetr4['PREMIN'].str.slice(11)).astype(float)"
   ]
  },
  {
   "cell_type": "code",
   "execution_count": 147,
   "metadata": {},
   "outputs": [
    {
     "data": {
      "text/html": [
       "<div>\n",
       "<style>\n",
       "    .dataframe thead tr:only-child th {\n",
       "        text-align: right;\n",
       "    }\n",
       "\n",
       "    .dataframe thead th {\n",
       "        text-align: left;\n",
       "    }\n",
       "\n",
       "    .dataframe tbody tr th {\n",
       "        vertical-align: top;\n",
       "    }\n",
       "</style>\n",
       "<table border=\"1\" class=\"dataframe\">\n",
       "  <thead>\n",
       "    <tr style=\"text-align: right;\">\n",
       "      <th></th>\n",
       "      <th>TIPREG</th>\n",
       "      <th>DT_PREGAO</th>\n",
       "      <th>CODBDI</th>\n",
       "      <th>CODNEG</th>\n",
       "      <th>TPMERC</th>\n",
       "      <th>NOMRES</th>\n",
       "      <th>ESPECI</th>\n",
       "      <th>MODREF</th>\n",
       "      <th>PREABE</th>\n",
       "      <th>PREMAX</th>\n",
       "      <th>PREMIN</th>\n",
       "      <th>PREMED</th>\n",
       "      <th>PREULT</th>\n",
       "      <th>PREOFC</th>\n",
       "      <th>PREOFV</th>\n",
       "      <th>TOTNEG</th>\n",
       "      <th>QUATOT</th>\n",
       "      <th>PREOFV</th>\n",
       "    </tr>\n",
       "  </thead>\n",
       "  <tbody>\n",
       "    <tr>\n",
       "      <th>1329</th>\n",
       "      <td>01</td>\n",
       "      <td>2018-01-02</td>\n",
       "      <td>02</td>\n",
       "      <td>PETR4</td>\n",
       "      <td>010PETROBRAS   PN</td>\n",
       "      <td>PETROBRAS</td>\n",
       "      <td>PN</td>\n",
       "      <td>R$</td>\n",
       "      <td>16.19</td>\n",
       "      <td>16.55</td>\n",
       "      <td>16.19</td>\n",
       "      <td>0000000001642</td>\n",
       "      <td>0000000001655</td>\n",
       "      <td>0000000001653</td>\n",
       "      <td>0000000001655</td>\n",
       "      <td>40660</td>\n",
       "      <td>000000000033461800</td>\n",
       "      <td>0000000001655</td>\n",
       "    </tr>\n",
       "    <tr>\n",
       "      <th>3463</th>\n",
       "      <td>01</td>\n",
       "      <td>2018-01-03</td>\n",
       "      <td>02</td>\n",
       "      <td>PETR4</td>\n",
       "      <td>010PETROBRAS   PN</td>\n",
       "      <td>PETROBRAS</td>\n",
       "      <td>PN</td>\n",
       "      <td>R$</td>\n",
       "      <td>16.49</td>\n",
       "      <td>16.72</td>\n",
       "      <td>16.37</td>\n",
       "      <td>0000000001658</td>\n",
       "      <td>0000000001670</td>\n",
       "      <td>0000000001669</td>\n",
       "      <td>0000000001670</td>\n",
       "      <td>41425</td>\n",
       "      <td>000000000055940900</td>\n",
       "      <td>0000000001670</td>\n",
       "    </tr>\n",
       "    <tr>\n",
       "      <th>5776</th>\n",
       "      <td>01</td>\n",
       "      <td>2018-01-04</td>\n",
       "      <td>02</td>\n",
       "      <td>PETR4</td>\n",
       "      <td>010PETROBRAS   PN</td>\n",
       "      <td>PETROBRAS</td>\n",
       "      <td>PN</td>\n",
       "      <td>R$</td>\n",
       "      <td>16.78</td>\n",
       "      <td>16.96</td>\n",
       "      <td>16.62</td>\n",
       "      <td>0000000001683</td>\n",
       "      <td>0000000001673</td>\n",
       "      <td>0000000001673</td>\n",
       "      <td>0000000001675</td>\n",
       "      <td>39461</td>\n",
       "      <td>000000000037064900</td>\n",
       "      <td>0000000001675</td>\n",
       "    </tr>\n",
       "    <tr>\n",
       "      <th>8115</th>\n",
       "      <td>01</td>\n",
       "      <td>2018-01-05</td>\n",
       "      <td>02</td>\n",
       "      <td>PETR4</td>\n",
       "      <td>010PETROBRAS   PN</td>\n",
       "      <td>PETROBRAS</td>\n",
       "      <td>PN</td>\n",
       "      <td>R$</td>\n",
       "      <td>16.70</td>\n",
       "      <td>16.86</td>\n",
       "      <td>16.57</td>\n",
       "      <td>0000000001676</td>\n",
       "      <td>0000000001683</td>\n",
       "      <td>0000000001682</td>\n",
       "      <td>0000000001683</td>\n",
       "      <td>37542</td>\n",
       "      <td>000000000026958200</td>\n",
       "      <td>0000000001683</td>\n",
       "    </tr>\n",
       "    <tr>\n",
       "      <th>10412</th>\n",
       "      <td>01</td>\n",
       "      <td>2018-01-08</td>\n",
       "      <td>02</td>\n",
       "      <td>PETR4</td>\n",
       "      <td>010PETROBRAS   PN</td>\n",
       "      <td>PETROBRAS</td>\n",
       "      <td>PN</td>\n",
       "      <td>R$</td>\n",
       "      <td>16.74</td>\n",
       "      <td>17.03</td>\n",
       "      <td>16.71</td>\n",
       "      <td>0000000001692</td>\n",
       "      <td>0000000001703</td>\n",
       "      <td>0000000001702</td>\n",
       "      <td>0000000001704</td>\n",
       "      <td>36507</td>\n",
       "      <td>000000000028400000</td>\n",
       "      <td>0000000001704</td>\n",
       "    </tr>\n",
       "  </tbody>\n",
       "</table>\n",
       "</div>"
      ],
      "text/plain": [
       "      TIPREG  DT_PREGAO CODBDI        CODNEG                       TPMERC  \\\n",
       "1329      01 2018-01-02     02  PETR4         010PETROBRAS   PN             \n",
       "3463      01 2018-01-03     02  PETR4         010PETROBRAS   PN             \n",
       "5776      01 2018-01-04     02  PETR4         010PETROBRAS   PN             \n",
       "8115      01 2018-01-05     02  PETR4         010PETROBRAS   PN             \n",
       "10412     01 2018-01-08     02  PETR4         010PETROBRAS   PN             \n",
       "\n",
       "             NOMRES      ESPECI MODREF  PREABE  PREMAX  PREMIN         PREMED  \\\n",
       "1329   PETROBRAS     PN           R$     16.19   16.55   16.19  0000000001642   \n",
       "3463   PETROBRAS     PN           R$     16.49   16.72   16.37  0000000001658   \n",
       "5776   PETROBRAS     PN           R$     16.78   16.96   16.62  0000000001683   \n",
       "8115   PETROBRAS     PN           R$     16.70   16.86   16.57  0000000001676   \n",
       "10412  PETROBRAS     PN           R$     16.74   17.03   16.71  0000000001692   \n",
       "\n",
       "              PREULT         PREOFC         PREOFV TOTNEG              QUATOT  \\\n",
       "1329   0000000001655  0000000001653  0000000001655  40660  000000000033461800   \n",
       "3463   0000000001670  0000000001669  0000000001670  41425  000000000055940900   \n",
       "5776   0000000001673  0000000001673  0000000001675  39461  000000000037064900   \n",
       "8115   0000000001683  0000000001682  0000000001683  37542  000000000026958200   \n",
       "10412  0000000001703  0000000001702  0000000001704  36507  000000000028400000   \n",
       "\n",
       "              PREOFV  \n",
       "1329   0000000001655  \n",
       "3463   0000000001670  \n",
       "5776   0000000001675  \n",
       "8115   0000000001683  \n",
       "10412  0000000001704  "
      ]
     },
     "execution_count": 147,
     "metadata": {},
     "output_type": "execute_result"
    }
   ],
   "source": [
    "dfPetr4.head()"
   ]
  },
  {
   "cell_type": "code",
   "execution_count": 142,
   "metadata": {},
   "outputs": [],
   "source": []
  },
  {
   "cell_type": "code",
   "execution_count": 143,
   "metadata": {},
   "outputs": [
    {
     "data": {
      "text/plain": [
       "1329    16.19\n",
       "Name: PREABE, dtype: float64"
      ]
     },
     "execution_count": 143,
     "metadata": {},
     "output_type": "execute_result"
    }
   ],
   "source": [
    "dfPetr4['PREABE'][0:1]"
   ]
  },
  {
   "cell_type": "code",
   "execution_count": null,
   "metadata": {
    "collapsed": true
   },
   "outputs": [],
   "source": []
  }
 ],
 "metadata": {
  "kernelspec": {
   "display_name": "Python 3",
   "language": "python",
   "name": "python3"
  },
  "language_info": {
   "codemirror_mode": {
    "name": "ipython",
    "version": 3
   },
   "file_extension": ".py",
   "mimetype": "text/x-python",
   "name": "python",
   "nbconvert_exporter": "python",
   "pygments_lexer": "ipython3",
   "version": "3.6.3"
  }
 },
 "nbformat": 4,
 "nbformat_minor": 2
}
