{
 "cells": [
  {
   "cell_type": "code",
   "execution_count": 1,
   "metadata": {},
   "outputs": [
    {
     "name": "stdout",
     "output_type": "stream",
     "text": [
      "<SparkContext master=local[*] appName=PySparkShell>\n"
     ]
    }
   ],
   "source": [
    "print(sc)"
   ]
  },
  {
   "cell_type": "code",
   "execution_count": 10,
   "metadata": {
    "collapsed": true
   },
   "outputs": [],
   "source": [
    "ibov_v1 = sc.textFile('datasets/COTAHIST_A2018.TXT')"
   ]
  },
  {
   "cell_type": "code",
   "execution_count": 12,
   "metadata": {},
   "outputs": [
    {
     "data": {
      "text/plain": [
       "['00COTAHIST.2018BOVESPA 20180221                                                                                                                                                                                                                      ',\n",
       " '012018010202AALR3       010ALLIAR      ON      NM   R$  000000000149400000000015160000000001470000000000148400000000014890000000001475000000000148900403000000000000094500000000000140299100000000000000009999123100000010000000000000BRAALRACNOR6100',\n",
       " '012018010296AALR3F      020ALLIAR      ON      NM   R$  000000000147900000000014930000000001479000000000148600000000014800000000001473000000000151600007000000000000000225000000000000334384000000000000009999123100000010000000000000BRAALRACNOR6100',\n",
       " '012018010202AAPL34      010APPLE       DRN          R$  000000000568100000000056810000000005630000000000563800000000056300000000005500000000000563000004000000000000000900000000000005074700000000000000009999123100000010000000000000BRAAPLBDR004123',\n",
       " '012018010296AAPL34F     020APPLE       DRN          R$  000000000568100000000065000000000005654000000000596300000000056540000000005459000000000620000007000000000000000061000000000000363770000000000000009999123100000010000000000000BRAAPLBDR004123']"
      ]
     },
     "execution_count": 12,
     "metadata": {},
     "output_type": "execute_result"
    }
   ],
   "source": [
    "ibov_v1.take(5)"
   ]
  },
  {
   "cell_type": "code",
   "execution_count": 14,
   "metadata": {},
   "outputs": [
    {
     "data": {
      "text/plain": [
       "'00COTAHIST.2018BOVESPA 20180221                                                                                                                                                                                                                      '"
      ]
     },
     "execution_count": 14,
     "metadata": {},
     "output_type": "execute_result"
    }
   ],
   "source": [
    "ibov_v1.first()"
   ]
  },
  {
   "cell_type": "code",
   "execution_count": null,
   "metadata": {},
   "outputs": [],
   "source": []
  }
 ],
 "metadata": {
  "kernelspec": {
   "display_name": "Python 3",
   "language": "python",
   "name": "python3"
  },
  "language_info": {
   "codemirror_mode": {
    "name": "ipython",
    "version": 3
   },
   "file_extension": ".py",
   "mimetype": "text/x-python",
   "name": "python",
   "nbconvert_exporter": "python",
   "pygments_lexer": "ipython3",
   "version": "3.6.3"
  }
 },
 "nbformat": 4,
 "nbformat_minor": 2
}
